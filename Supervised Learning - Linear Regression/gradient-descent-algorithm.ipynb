{
 "cells": [
  {
   "cell_type": "code",
   "execution_count": 2,
   "id": "d25ab60a-791f-4ca5-8015-1ca3601a175f",
   "metadata": {},
   "outputs": [],
   "source": [
    "import numpy as np\n",
    "import matplotlib.pyplot as plt"
   ]
  },
  {
   "cell_type": "code",
   "execution_count": 6,
   "id": "b85e78f2-7e8c-4c35-bb6c-6f2c2332a0af",
   "metadata": {},
   "outputs": [
    {
     "name": "stdout",
     "output_type": "stream",
     "text": [
      "x value : [1. 2.]\n",
      "y value : [300. 500.]\n"
     ]
    }
   ],
   "source": [
    "x_train = np.array([1.0, 2.0])\n",
    "y_train = np.array([300.0,500.0])\n",
    "print(f\"x value : {x_train}\")\n",
    "print(f\"y value : {y_train}\")"
   ]
  },
  {
   "cell_type": "code",
   "execution_count": 8,
   "id": "1b48ceac-9455-4efd-8bb6-21727ce380ff",
   "metadata": {},
   "outputs": [],
   "source": [
    "def compute_cost(x,y,w,b):\n",
    "    m = x.shape[0]\n",
    "    cost= 0 \n",
    "    for i in range(m):\n",
    "        f_wb = w*x[i] + b\n",
    "        cost = cost + (f_wb-y[i])**2\n",
    "    return cost/(2*m)"
   ]
  },
  {
   "cell_type": "code",
   "execution_count": 10,
   "id": "e47b910f-4ea1-4a5e-ad50-c6faa1ca3893",
   "metadata": {},
   "outputs": [],
   "source": [
    "def compute_gradient(x,y,w,b):\n",
    "    dj_dw = 0\n",
    "    dj_db = 0\n",
    "    m = x.shape[0]\n",
    "    for i in range(m):\n",
    "        f_wb = w*x[i] + b\n",
    "        dj_dw_i = (f_wb - y[i])*x[i]\n",
    "        dj_db_i = (f_wb-y[i])\n",
    "        dj_dw+=dj_dw_i\n",
    "        dj_db+=dj_db_i\n",
    "    return dj_dw/m,dj_db/m"
   ]
  },
  {
   "cell_type": "code",
   "execution_count": 14,
   "id": "10072bd9-4e66-4e0b-8719-28cfc5ac77a9",
   "metadata": {},
   "outputs": [],
   "source": [
    "def gradient_descent_algorithm(x,y,w_input,b_input,num_iters,aplha):\n",
    "    w = w_input\n",
    "    b = b_input\n",
    "    \n",
    "    for i in range(num_iters):\n",
    "        dj_dw,dj_db = compute_gradient(x,y,w,b)\n",
    "        w = w - alpha*dj_dw\n",
    "        b = b - alpha*dj_db\n",
    "    return w,b"
   ]
  },
  {
   "cell_type": "code",
   "execution_count": 24,
   "id": "c1718399-3d1c-4139-8d94-c8898a34cc7e",
   "metadata": {},
   "outputs": [
    {
     "name": "stdout",
     "output_type": "stream",
     "text": [
      "Final w value :  199.99999999999005\n",
      "Final b value :  100.00000000001563\n"
     ]
    }
   ],
   "source": [
    "w = 0\n",
    "b = 0\n",
    "num_iters = 1000000\n",
    "alpha = 1.0e-2\n",
    "final_w,final_b = gradient_descent_algorithm(x_train,y_train,w,b,num_iters,alpha)\n",
    "print(\"Final w value : \",final_w)\n",
    "print(\"Final b value : \",final_b)"
   ]
  },
  {
   "cell_type": "code",
   "execution_count": 28,
   "id": "c3a3e16e-e823-4d2a-b976-0d6f2a101c9f",
   "metadata": {},
   "outputs": [
    {
     "name": "stdout",
     "output_type": "stream",
     "text": [
      "Price for 1200.0 square metres house is 340000.00000000367 dollars \n",
      "Price for 1400.0 square metres house is 380000.0000000017 dollars \n"
     ]
    }
   ],
   "source": [
    "x_test = np.array([1.2,1.4])\n",
    "m_test = x_test.shape[0]\n",
    "for i in range(m_test):\n",
    "    f_wb = final_w * x_test[i] + final_b\n",
    "    print(f\"Price for {x_test[i]*1000} square metres house is {f_wb*1000} dollars \")"
   ]
  },
  {
   "cell_type": "code",
   "execution_count": null,
   "id": "58ab2ca1-b75f-4f88-ba65-4327a5ce26e3",
   "metadata": {},
   "outputs": [],
   "source": []
  }
 ],
 "metadata": {
  "kernelspec": {
   "display_name": "Python 3 (ipykernel)",
   "language": "python",
   "name": "python3"
  },
  "language_info": {
   "codemirror_mode": {
    "name": "ipython",
    "version": 3
   },
   "file_extension": ".py",
   "mimetype": "text/x-python",
   "name": "python",
   "nbconvert_exporter": "python",
   "pygments_lexer": "ipython3",
   "version": "3.12.7"
  }
 },
 "nbformat": 4,
 "nbformat_minor": 5
}
