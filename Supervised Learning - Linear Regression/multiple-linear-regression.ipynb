{
 "cells": [
  {
   "cell_type": "code",
   "execution_count": 2,
   "id": "018fb1ca-c5ed-4331-9574-32ff9c62e883",
   "metadata": {},
   "outputs": [],
   "source": [
    "import numpy as np"
   ]
  },
  {
   "cell_type": "code",
   "execution_count": 4,
   "id": "4df9aba1-b275-4756-8d93-b983a20f05d0",
   "metadata": {},
   "outputs": [
    {
     "name": "stdout",
     "output_type": "stream",
     "text": [
      "[[2104    5    1   45]\n",
      " [1416    3    2   40]\n",
      " [ 852    2    1   35]]\n"
     ]
    }
   ],
   "source": [
    "x_input = np.array([[2104, 5, 1, 45], [1416, 3, 2, 40], [852, 2, 1, 35]])\n",
    "y_input = np.array([460, 232, 178])\n",
    "print(x_input)"
   ]
  },
  {
   "cell_type": "code",
   "execution_count": 6,
   "id": "b3f4a1c0-a32d-4125-8ad5-a41610b04e5f",
   "metadata": {},
   "outputs": [],
   "source": [
    "def compute_cost(x,y,w,b):\n",
    "    m = x.shape[0]\n",
    "    cost = 0.0\n",
    "    for i in range(m):\n",
    "        f_wb_i = np.dot(x[i],w) + b\n",
    "        cost = cost+ (f_wb_i - y[i])**2\n",
    "    return cost/(2*m)"
   ]
  },
  {
   "cell_type": "code",
   "execution_count": 8,
   "id": "6da53ecc-7392-4571-9da6-893121de9141",
   "metadata": {},
   "outputs": [],
   "source": [
    "def compute_gradient(x,y,w,b):\n",
    "    m,n = x.shape\n",
    "    dj_dw = np.zeros((n,))\n",
    "    dj_db = 0.0\n",
    "\n",
    "    for i in range(m):\n",
    "        err = np.dot(x[i],w) + b - y[i]\n",
    "        for i in range(n):\n",
    "            dj_dw[j] = dj_dw[j] + err * x[i,j]\n",
    "        dj_db += err\n",
    "    return dj_dw/m,dj_db/m"
   ]
  },
  {
   "cell_type": "code",
   "execution_count": 10,
   "id": "94dea376-2a19-48cf-bf95-615e26f0c035",
   "metadata": {},
   "outputs": [],
   "source": [
    "def gradient_descent(x,y,w_in,b_in,num_iter,alpha):\n",
    "    w = w_in\n",
    "    b = b_in\n",
    "    m = x.shape[0]\n",
    "    for i in range(num_iter):\n",
    "        dj_dw,dj_db = compute_gradient(x,y,w,b)\n",
    "        w = w - alpha * dj_dw\n",
    "        b = b - alpha * dj_db\n",
    "    return w,b"
   ]
  },
  {
   "cell_type": "code",
   "execution_count": 16,
   "id": "f4d7b739-f017-4583-9b70-d776f9452cb6",
   "metadata": {},
   "outputs": [
    {
     "ename": "NameError",
     "evalue": "name 'j' is not defined",
     "output_type": "error",
     "traceback": [
      "\u001b[0;31m---------------------------------------------------------------------------\u001b[0m",
      "\u001b[0;31mNameError\u001b[0m                                 Traceback (most recent call last)",
      "Cell \u001b[0;32mIn[16], line 7\u001b[0m\n\u001b[1;32m      4\u001b[0m iterations \u001b[38;5;241m=\u001b[39m \u001b[38;5;241m1000\u001b[39m\n\u001b[1;32m      5\u001b[0m alpha \u001b[38;5;241m=\u001b[39m \u001b[38;5;241m5.0e-7\u001b[39m\n\u001b[0;32m----> 7\u001b[0m w,b \u001b[38;5;241m=\u001b[39m gradient_descent(x_input,y_input,initial_w,initial_b,iterations,alpha)\n\u001b[1;32m      8\u001b[0m \u001b[38;5;28mprint\u001b[39m(w)\n\u001b[1;32m      9\u001b[0m \u001b[38;5;28mprint\u001b[39m(b)\n",
      "Cell \u001b[0;32mIn[10], line 6\u001b[0m, in \u001b[0;36mgradient_descent\u001b[0;34m(x, y, w_in, b_in, num_iter, alpha)\u001b[0m\n\u001b[1;32m      4\u001b[0m m \u001b[38;5;241m=\u001b[39m x\u001b[38;5;241m.\u001b[39mshape[\u001b[38;5;241m0\u001b[39m]\n\u001b[1;32m      5\u001b[0m \u001b[38;5;28;01mfor\u001b[39;00m i \u001b[38;5;129;01min\u001b[39;00m \u001b[38;5;28mrange\u001b[39m(num_iter):\n\u001b[0;32m----> 6\u001b[0m     dj_dw,dj_db \u001b[38;5;241m=\u001b[39m compute_gradient(x,y,w,b)\n\u001b[1;32m      7\u001b[0m     w \u001b[38;5;241m=\u001b[39m w \u001b[38;5;241m-\u001b[39m alpha \u001b[38;5;241m*\u001b[39m dj_dw\n\u001b[1;32m      8\u001b[0m     b \u001b[38;5;241m=\u001b[39m b \u001b[38;5;241m-\u001b[39m alpha \u001b[38;5;241m*\u001b[39m dj_db\n",
      "Cell \u001b[0;32mIn[8], line 9\u001b[0m, in \u001b[0;36mcompute_gradient\u001b[0;34m(x, y, w, b)\u001b[0m\n\u001b[1;32m      7\u001b[0m     err \u001b[38;5;241m=\u001b[39m np\u001b[38;5;241m.\u001b[39mdot(x[i],w) \u001b[38;5;241m+\u001b[39m b \u001b[38;5;241m-\u001b[39m y[i]\n\u001b[1;32m      8\u001b[0m     \u001b[38;5;28;01mfor\u001b[39;00m i \u001b[38;5;129;01min\u001b[39;00m \u001b[38;5;28mrange\u001b[39m(n):\n\u001b[0;32m----> 9\u001b[0m         dj_dw[j] \u001b[38;5;241m=\u001b[39m dj_dw[j] \u001b[38;5;241m+\u001b[39m err \u001b[38;5;241m*\u001b[39m x[i,j]\n\u001b[1;32m     10\u001b[0m     dj_db \u001b[38;5;241m+\u001b[39m\u001b[38;5;241m=\u001b[39m err\n\u001b[1;32m     11\u001b[0m \u001b[38;5;28;01mreturn\u001b[39;00m dj_dw\u001b[38;5;241m/\u001b[39mm,dj_db\u001b[38;5;241m/\u001b[39mm\n",
      "\u001b[0;31mNameError\u001b[0m: name 'j' is not defined"
     ]
    }
   ],
   "source": [
    "n = x_input.shape[1]\n",
    "initial_w = np.zeros((n,))\n",
    "initial_b = 0.\n",
    "iterations = 1000\n",
    "alpha = 5.0e-7\n",
    "\n",
    "w,b = gradient_descent(x_input,y_input,initial_w,initial_b,iterations,alpha)\n",
    "print(w)\n",
    "print(b)"
   ]
  },
  {
   "cell_type": "code",
   "execution_count": null,
   "id": "dbc6f788-595e-4409-b6b0-769a061a9a49",
   "metadata": {},
   "outputs": [],
   "source": []
  }
 ],
 "metadata": {
  "kernelspec": {
   "display_name": "Python 3 (ipykernel)",
   "language": "python",
   "name": "python3"
  },
  "language_info": {
   "codemirror_mode": {
    "name": "ipython",
    "version": 3
   },
   "file_extension": ".py",
   "mimetype": "text/x-python",
   "name": "python",
   "nbconvert_exporter": "python",
   "pygments_lexer": "ipython3",
   "version": "3.12.7"
  }
 },
 "nbformat": 4,
 "nbformat_minor": 5
}
