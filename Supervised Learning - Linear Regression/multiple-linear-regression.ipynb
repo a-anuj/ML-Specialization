{
 "cells": [
  {
   "cell_type": "code",
   "execution_count": 2,
   "id": "018fb1ca-c5ed-4331-9574-32ff9c62e883",
   "metadata": {},
   "outputs": [],
   "source": [
    "import numpy as np"
   ]
  },
  {
   "cell_type": "code",
   "execution_count": 4,
   "id": "4df9aba1-b275-4756-8d93-b983a20f05d0",
   "metadata": {},
   "outputs": [
    {
     "name": "stdout",
     "output_type": "stream",
     "text": [
      "[[2104    5    1   45]\n",
      " [1416    3    2   40]\n",
      " [ 852    2    1   35]]\n"
     ]
    }
   ],
   "source": [
    "x_input = np.array([[2104, 5, 1, 45], [1416, 3, 2, 40], [852, 2, 1, 35]])\n",
    "y_input = np.array([460, 232, 178])\n",
    "print(x_input)"
   ]
  },
  {
   "cell_type": "code",
   "execution_count": 6,
   "id": "b3f4a1c0-a32d-4125-8ad5-a41610b04e5f",
   "metadata": {},
   "outputs": [],
   "source": [
    "def compute_cost(x,y,w,b):\n",
    "    m = x.shape[0]\n",
    "    cost = 0.0\n",
    "    for i in range(m):\n",
    "        f_wb_i = np.dot(x[i],w) + b\n",
    "        cost = cost+ (f_wb_i - y[i])**2\n",
    "    return cost/(2*m)"
   ]
  },
  {
   "cell_type": "code",
   "execution_count": 18,
   "id": "6da53ecc-7392-4571-9da6-893121de9141",
   "metadata": {},
   "outputs": [],
   "source": [
    "def compute_gradient(x,y,w,b):\n",
    "    m,n = x.shape\n",
    "    dj_dw = np.zeros((n,))\n",
    "    dj_db = 0.0\n",
    "\n",
    "    for i in range(m):\n",
    "        err = np.dot(x[i],w) + b - y[i]\n",
    "        for j in range(n):\n",
    "            dj_dw[j] = dj_dw[j] + err * x[i,j]\n",
    "        dj_db += err\n",
    "    return dj_dw/m,dj_db/m"
   ]
  },
  {
   "cell_type": "code",
   "execution_count": 20,
   "id": "94dea376-2a19-48cf-bf95-615e26f0c035",
   "metadata": {},
   "outputs": [],
   "source": [
    "def gradient_descent(x,y,w_in,b_in,num_iter,alpha):\n",
    "    w = w_in\n",
    "    b = b_in\n",
    "    m = x.shape[0]\n",
    "    for i in range(num_iter):\n",
    "        dj_dw,dj_db = compute_gradient(x,y,w,b)\n",
    "        w = w - alpha * dj_dw\n",
    "        b = b - alpha * dj_db\n",
    "    return w,b"
   ]
  },
  {
   "cell_type": "code",
   "execution_count": 22,
   "id": "f4d7b739-f017-4583-9b70-d776f9452cb6",
   "metadata": {},
   "outputs": [
    {
     "name": "stdout",
     "output_type": "stream",
     "text": [
      "[ 0.20396569  0.00374919 -0.0112487  -0.0658614 ]\n",
      "-0.0022354075309325345\n"
     ]
    }
   ],
   "source": [
    "n = x_input.shape[1]\n",
    "initial_w = np.zeros((n,))\n",
    "initial_b = 0.\n",
    "iterations = 1000\n",
    "alpha = 5.0e-7\n",
    "\n",
    "w,b = gradient_descent(x_input,y_input,initial_w,initial_b,iterations,alpha)\n",
    "print(w)\n",
    "print(b)"
   ]
  },
  {
   "cell_type": "code",
   "execution_count": null,
   "id": "dbc6f788-595e-4409-b6b0-769a061a9a49",
   "metadata": {},
   "outputs": [],
   "source": [
    "#Predicting the values\n",
    "m = x.shape[0]\n",
    "f_wb = np.zeros(m)\n",
    "for i in range(m):\n",
    "    f_wb[i] = np.dot(x[i],w) + b\n",
    "\n",
    "for i in range(m):\n",
    "    print(f\"Actual Output : {f_wb[]i}\")"
   ]
  }
 ],
 "metadata": {
  "kernelspec": {
   "display_name": "Python 3 (ipykernel)",
   "language": "python",
   "name": "python3"
  },
  "language_info": {
   "codemirror_mode": {
    "name": "ipython",
    "version": 3
   },
   "file_extension": ".py",
   "mimetype": "text/x-python",
   "name": "python",
   "nbconvert_exporter": "python",
   "pygments_lexer": "ipython3",
   "version": "3.12.7"
  }
 },
 "nbformat": 4,
 "nbformat_minor": 5
}
