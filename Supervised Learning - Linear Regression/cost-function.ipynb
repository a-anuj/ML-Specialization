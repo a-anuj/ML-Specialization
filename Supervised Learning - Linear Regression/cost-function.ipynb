{
 "cells": [
  {
   "cell_type": "code",
   "execution_count": 2,
   "id": "abc56fed-dd60-4a32-af7a-df5260d8ee30",
   "metadata": {},
   "outputs": [],
   "source": [
    "#Example of predicting the house price with the size of the house given\n",
    "import numpy as np\n"
   ]
  },
  {
   "cell_type": "code",
   "execution_count": 4,
   "id": "23b2e358-aa5b-472e-8769-79051d8a2188",
   "metadata": {},
   "outputs": [],
   "source": [
    "x_train = np.array([1.0,2.0])\n",
    "y_train = np.array([300.0,500.0])"
   ]
  },
  {
   "cell_type": "code",
   "execution_count": 6,
   "id": "6b954e40-7a78-493a-a9cc-3a5a615cdfcf",
   "metadata": {},
   "outputs": [],
   "source": [
    "def compute_cost(x,y,w,b):\n",
    "    m = x.shape[0]\n",
    "    total_cost = 0\n",
    "    for i in range(m):\n",
    "        f_wb = w*x[i] + b\n",
    "        temp_cost = (f_wb-y[i])**2\n",
    "        total_cost+=temp_cost\n",
    "    return total_cost/(2*m)"
   ]
  },
  {
   "cell_type": "code",
   "execution_count": 17,
   "id": "224228ee-29da-43b8-a75a-fb9f972304ac",
   "metadata": {},
   "outputs": [
    {
     "data": {
      "text/plain": [
       "0.0"
      ]
     },
     "execution_count": 17,
     "metadata": {},
     "output_type": "execute_result"
    }
   ],
   "source": [
    "compute_cost(x_train,y_train,200,100) #Our goal is to minimize this cost function"
   ]
  },
  {
   "cell_type": "code",
   "execution_count": null,
   "id": "6d7f0570-da6c-4867-b7dc-47b5efc5488d",
   "metadata": {},
   "outputs": [],
   "source": []
  }
 ],
 "metadata": {
  "kernelspec": {
   "display_name": "Python 3 (ipykernel)",
   "language": "python",
   "name": "python3"
  },
  "language_info": {
   "codemirror_mode": {
    "name": "ipython",
    "version": 3
   },
   "file_extension": ".py",
   "mimetype": "text/x-python",
   "name": "python",
   "nbconvert_exporter": "python",
   "pygments_lexer": "ipython3",
   "version": "3.12.7"
  }
 },
 "nbformat": 4,
 "nbformat_minor": 5
}
