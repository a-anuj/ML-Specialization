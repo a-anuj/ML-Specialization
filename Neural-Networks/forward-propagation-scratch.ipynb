{
 "cells": [
  {
   "cell_type": "code",
   "execution_count": 1,
   "id": "aa28a6d4-9044-41f2-a903-6cd6e3691571",
   "metadata": {},
   "outputs": [
    {
     "name": "stderr",
     "output_type": "stream",
     "text": [
      "2025-06-13 08:19:07.876032: I tensorflow/core/util/port.cc:153] oneDNN custom operations are on. You may see slightly different numerical results due to floating-point round-off errors from different computation orders. To turn them off, set the environment variable `TF_ENABLE_ONEDNN_OPTS=0`.\n",
      "2025-06-13 08:19:07.905928: E external/local_xla/xla/stream_executor/cuda/cuda_fft.cc:477] Unable to register cuFFT factory: Attempting to register factory for plugin cuFFT when one has already been registered\n",
      "WARNING: All log messages before absl::InitializeLog() is called are written to STDERR\n",
      "E0000 00:00:1749782947.942108    5243 cuda_dnn.cc:8310] Unable to register cuDNN factory: Attempting to register factory for plugin cuDNN when one has already been registered\n",
      "E0000 00:00:1749782947.953150    5243 cuda_blas.cc:1418] Unable to register cuBLAS factory: Attempting to register factory for plugin cuBLAS when one has already been registered\n",
      "2025-06-13 08:19:07.987362: I tensorflow/core/platform/cpu_feature_guard.cc:210] This TensorFlow binary is optimized to use available CPU instructions in performance-critical operations.\n",
      "To enable the following instructions: AVX2 AVX512F AVX512_VNNI FMA, in other operations, rebuild TensorFlow with the appropriate compiler flags.\n"
     ]
    }
   ],
   "source": [
    "import numpy as np\n",
    "import os\n",
    "os.environ[\"CUDA_VISIBLE_DEVICES\"] = \"-1\"\n",
    "import tensorflow as tf"
   ]
  },
  {
   "cell_type": "code",
   "execution_count": 3,
   "id": "5046f982-0ab2-405a-8713-bc86ba37512c",
   "metadata": {},
   "outputs": [],
   "source": [
    "x_train = np.array([\n",
    "    [180.4, 10.3],\n",
    "    [190.4, 12.3],\n",
    "    [200.3, 14.4],\n",
    "    [210.4, 13.4],\n",
    "    [220.4, 15.4],\n",
    "    [230.3, 16.4],\n",
    "    [240.3, 18.4],\n",
    "    [250.4, 14.4]\n",
    "],dtype=np.float32)\n",
    "y_train = np.array([0, 1, 1, 1, 0, 1, 0, 1],dtype=np.float32)"
   ]
  },
  {
   "cell_type": "code",
   "execution_count": 9,
   "id": "688241c0-e183-410c-8ece-4aedb1f0b17c",
   "metadata": {},
   "outputs": [
    {
     "name": "stdout",
     "output_type": "stream",
     "text": [
      "Maximum temperature before normalization :  250.4\n",
      "Minimum temperature before normalization :  180.4\n",
      "Maximum duration before normalization :  18.4\n",
      "Minimum duration before normalization :  10.3\n",
      "Maximum temperature before normalization :  1.5300683\n",
      "Minimum temperature before normalization :  -1.5267953\n",
      "Maximum duration before normalization :  1.7317832\n",
      "Minimum duration before normalization :  -1.7532969\n"
     ]
    }
   ],
   "source": [
    "print(\"Maximum temperature before normalization : \",np.max(x_train[:,0]))\n",
    "print(\"Minimum temperature before normalization : \",np.min(x_train[:,0]))\n",
    "print(\"Maximum duration before normalization : \",np.max(x_train[:,1]))\n",
    "print(\"Minimum duration before normalization : \",np.min(x_train[:,1]))\n",
    "\n",
    "norm_l = tf.keras.layers.Normalization(axis=-1)\n",
    "norm_l.adapt(x_train)\n",
    "x_train_normalized = norm_l(x_train)\n",
    "\n",
    "print(\"Maximum temperature before normalization : \",np.max(x_train_normalized[:,0]))\n",
    "print(\"Minimum temperature before normalization : \",np.min(x_train_normalized[:,0]))\n",
    "print(\"Maximum duration before normalization : \",np.max(x_train_normalized[:,1]))\n",
    "print(\"Minimum duration before normalization : \",np.min(x_train_normalized[:,1]))"
   ]
  },
  {
   "cell_type": "code",
   "execution_count": 13,
   "id": "be108f7d-ec4d-4841-beff-38d211861a7e",
   "metadata": {},
   "outputs": [],
   "source": [
    "def g(z):\n",
    "    return 1/(1+np.exp(-z))"
   ]
  },
  {
   "cell_type": "code",
   "execution_count": 15,
   "id": "40dda32f-2f78-4aba-87b9-7fbfcb6bcad1",
   "metadata": {},
   "outputs": [],
   "source": [
    "def dense(a_in,W,b):\n",
    "    units = W.shape[1]\n",
    "    a_out = np.zeros(units)\n",
    "    for i in range(units):\n",
    "        w = W[:,i]\n",
    "        z = np.dot(W,a_in) + b[i]\n",
    "        a_out[i] = g(z)\n",
    "    return a_out"
   ]
  },
  {
   "cell_type": "code",
   "execution_count": null,
   "id": "a845347b-f1bc-41e3-aa38-76f7f2b623ca",
   "metadata": {},
   "outputs": [],
   "source": [
    "def my_sequence(x,)"
   ]
  }
 ],
 "metadata": {
  "kernelspec": {
   "display_name": "Python 3 (ipykernel)",
   "language": "python",
   "name": "python3"
  },
  "language_info": {
   "codemirror_mode": {
    "name": "ipython",
    "version": 3
   },
   "file_extension": ".py",
   "mimetype": "text/x-python",
   "name": "python",
   "nbconvert_exporter": "python",
   "pygments_lexer": "ipython3",
   "version": "3.12.7"
  }
 },
 "nbformat": 4,
 "nbformat_minor": 5
}
