{
 "cells": [
  {
   "cell_type": "code",
   "execution_count": 1,
   "id": "aa28a6d4-9044-41f2-a903-6cd6e3691571",
   "metadata": {},
   "outputs": [
    {
     "name": "stderr",
     "output_type": "stream",
     "text": [
      "2025-06-13 08:19:07.876032: I tensorflow/core/util/port.cc:153] oneDNN custom operations are on. You may see slightly different numerical results due to floating-point round-off errors from different computation orders. To turn them off, set the environment variable `TF_ENABLE_ONEDNN_OPTS=0`.\n",
      "2025-06-13 08:19:07.905928: E external/local_xla/xla/stream_executor/cuda/cuda_fft.cc:477] Unable to register cuFFT factory: Attempting to register factory for plugin cuFFT when one has already been registered\n",
      "WARNING: All log messages before absl::InitializeLog() is called are written to STDERR\n",
      "E0000 00:00:1749782947.942108    5243 cuda_dnn.cc:8310] Unable to register cuDNN factory: Attempting to register factory for plugin cuDNN when one has already been registered\n",
      "E0000 00:00:1749782947.953150    5243 cuda_blas.cc:1418] Unable to register cuBLAS factory: Attempting to register factory for plugin cuBLAS when one has already been registered\n",
      "2025-06-13 08:19:07.987362: I tensorflow/core/platform/cpu_feature_guard.cc:210] This TensorFlow binary is optimized to use available CPU instructions in performance-critical operations.\n",
      "To enable the following instructions: AVX2 AVX512F AVX512_VNNI FMA, in other operations, rebuild TensorFlow with the appropriate compiler flags.\n"
     ]
    }
   ],
   "source": [
    "import numpy as np\n",
    "import os\n",
    "os.environ[\"CUDA_VISIBLE_DEVICES\"] = \"-1\"\n",
    "import tensorflow as tf"
   ]
  },
  {
   "cell_type": "code",
   "execution_count": 3,
   "id": "5046f982-0ab2-405a-8713-bc86ba37512c",
   "metadata": {},
   "outputs": [],
   "source": [
    "x_train = np.array([\n",
    "    [180.4, 10.3],\n",
    "    [190.4, 12.3],\n",
    "    [200.3, 14.4],\n",
    "    [210.4, 13.4],\n",
    "    [220.4, 15.4],\n",
    "    [230.3, 16.4],\n",
    "    [240.3, 18.4],\n",
    "    [250.4, 14.4]\n",
    "],dtype=np.float32)\n",
    "y_train = np.array([[0, 1, 1, 1, 0, 1, 0, 1]],dtype=np.float32)"
   ]
  },
  {
   "cell_type": "code",
   "execution_count": 9,
   "id": "688241c0-e183-410c-8ece-4aedb1f0b17c",
   "metadata": {},
   "outputs": [
    {
     "name": "stdout",
     "output_type": "stream",
     "text": [
      "Maximum temperature before normalization :  250.4\n",
      "Minimum temperature before normalization :  180.4\n",
      "Maximum duration before normalization :  18.4\n",
      "Minimum duration before normalization :  10.3\n",
      "Maximum temperature before normalization :  1.5300683\n",
      "Minimum temperature before normalization :  -1.5267953\n",
      "Maximum duration before normalization :  1.7317832\n",
      "Minimum duration before normalization :  -1.7532969\n"
     ]
    }
   ],
   "source": [
    "print(\"Maximum temperature before normalization : \",np.max(x_train[:,0]))\n",
    "print(\"Minimum temperature before normalization : \",np.min(x_train[:,0]))\n",
    "print(\"Maximum duration before normalization : \",np.max(x_train[:,1]))\n",
    "print(\"Minimum duration before normalization : \",np.min(x_train[:,1]))\n",
    "\n",
    "norm_l = tf.keras.layers.Normalization(axis=-1)\n",
    "norm_l.adapt(x_train)\n",
    "x_train_normalized = norm_l(x_train)\n",
    "\n",
    "print(\"Maximum temperature before normalization : \",np.max(x_train_normalized[:,0]))\n",
    "print(\"Minimum temperature before normalization : \",np.min(x_train_normalized[:,0]))\n",
    "print(\"Maximum duration before normalization : \",np.max(x_train_normalized[:,1]))\n",
    "print(\"Minimum duration before normalization : \",np.min(x_train_normalized[:,1]))"
   ]
  },
  {
   "cell_type": "code",
   "execution_count": 13,
   "id": "be108f7d-ec4d-4841-beff-38d211861a7e",
   "metadata": {},
   "outputs": [],
   "source": [
    "def g(z):\n",
    "    return 1/(1+np.exp(-z))"
   ]
  },
  {
   "cell_type": "code",
   "execution_count": 64,
   "id": "40dda32f-2f78-4aba-87b9-7fbfcb6bcad1",
   "metadata": {},
   "outputs": [],
   "source": [
    "# def dense(a_in,W,b):\n",
    "#     units = W.shape[1]\n",
    "#     a_out = np.zeros(units)\n",
    "#     for i in range(units):\n",
    "#         w = W[:,i]\n",
    "#         z = np.dot(a_in,w) + b[i]\n",
    "#         a_out[i] = g(z)\n",
    "#     return (a_out)\n",
    "\n",
    "def dense(a_in,W,B):\n",
    "    z = np.matmul(a_in,W) + B\n",
    "    \n"
   ]
  },
  {
   "cell_type": "code",
   "execution_count": 66,
   "id": "a845347b-f1bc-41e3-aa38-76f7f2b623ca",
   "metadata": {},
   "outputs": [],
   "source": [
    "def my_sequence(x,W1,W2,b1,b2):\n",
    "    a1 = dense(x,W1,b1)\n",
    "    a2 = dense(a1,W2,b2)\n",
    "    return a2"
   ]
  },
  {
   "cell_type": "code",
   "execution_count": 68,
   "id": "3aad04a7-f0e7-42be-b2ff-b2b7272a5bb1",
   "metadata": {},
   "outputs": [],
   "source": [
    "w1 = np.array([[ 1.3497322 ,-0.8072149,   0.43966955],[-3.1675754  , 2.3279064   ,6.3427715 ]])\n",
    "w2 = np.array([[ 0.14028654],\n",
    " [-6.612513  ],\n",
    " [ 5.6374364 ]])\n",
    "b1 = np.array([ 3.1803777 ,-1.5770558 , 8.735964 ])\n",
    "b2 = np.array( [-2.6712503])"
   ]
  },
  {
   "cell_type": "code",
   "execution_count": 70,
   "id": "8d686d73-1d27-4679-a867-b5c642e2a337",
   "metadata": {},
   "outputs": [],
   "source": [
    "def my_prediction(x,W1,b1,W2,b2):\n",
    "    m = x.shape[0]\n",
    "    op = np.zeros(m,)\n",
    "    for i in range(m):\n",
    "        op[i] = my_sequence(x[i],W1,W2,b1,b2)\n",
    "    return op"
   ]
  },
  {
   "cell_type": "code",
   "execution_count": 72,
   "id": "d54c3075-2cfe-442c-9c72-d14e3a98824d",
   "metadata": {},
   "outputs": [
    {
     "name": "stdout",
     "output_type": "stream",
     "text": [
      "[0.91093396 0.08660086]\n"
     ]
    },
    {
     "name": "stderr",
     "output_type": "stream",
     "text": [
      "/tmp/ipykernel_5243/4137610590.py:5: DeprecationWarning: Conversion of an array with ndim > 0 to a scalar is deprecated, and will error in future. Ensure you extract a single element from your array before performing this operation. (Deprecated NumPy 1.25.)\n",
      "  op[i] = my_sequence(x[i],W1,W2,b1,b2)\n"
     ]
    }
   ],
   "source": [
    "x_test  = np.array([[190.4,12.3],[180.4,10.3]])\n",
    "x_val = norm_l(x_test)\n",
    "print(my_prediction(x_val,w1,b1,w2,b2))"
   ]
  },
  {
   "cell_type": "code",
   "execution_count": null,
   "id": "3cb0af77-7e25-4c0c-8e18-041e97ce2b0c",
   "metadata": {},
   "outputs": [],
   "source": []
  },
  {
   "cell_type": "code",
   "execution_count": null,
   "id": "995cdaaf-db8c-4e09-bcf2-e0764c2e1f8f",
   "metadata": {},
   "outputs": [],
   "source": []
  }
 ],
 "metadata": {
  "kernelspec": {
   "display_name": "Python 3 (ipykernel)",
   "language": "python",
   "name": "python3"
  },
  "language_info": {
   "codemirror_mode": {
    "name": "ipython",
    "version": 3
   },
   "file_extension": ".py",
   "mimetype": "text/x-python",
   "name": "python",
   "nbconvert_exporter": "python",
   "pygments_lexer": "ipython3",
   "version": "3.12.7"
  }
 },
 "nbformat": 4,
 "nbformat_minor": 5
}
