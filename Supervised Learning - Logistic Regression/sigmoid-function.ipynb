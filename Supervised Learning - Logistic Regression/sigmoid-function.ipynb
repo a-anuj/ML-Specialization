{
 "cells": [
  {
   "cell_type": "code",
   "execution_count": 17,
   "id": "5dd88b95-cb73-4967-9595-cb6453a6390c",
   "metadata": {},
   "outputs": [],
   "source": [
    "import numpy as np\n",
    "import matplotlib.pyplot as plt"
   ]
  },
  {
   "cell_type": "code",
   "execution_count": 18,
   "id": "f2aa2824-5cc7-488d-93c2-3864f1f89ca8",
   "metadata": {},
   "outputs": [],
   "source": [
    "#Sigmoid function\n",
    "def sigmoid(z): # takes an input parameter z\n",
    "    g = 1/(1+np.exp(-z))\n",
    "    return g"
   ]
  },
  {
   "cell_type": "code",
   "execution_count": 19,
   "id": "fe513987-76c8-41db-9033-6f3a676644b3",
   "metadata": {},
   "outputs": [
    {
     "name": "stdout",
     "output_type": "stream",
     "text": [
      "Input (z), Output (sigmoid(z))\n",
      "[[-1.00000000e+01  4.53978687e-05]\n",
      " [-9.00000000e+00  1.23394576e-04]\n",
      " [-8.00000000e+00  3.35350130e-04]\n",
      " [-7.00000000e+00  9.11051194e-04]\n",
      " [-6.00000000e+00  2.47262316e-03]\n",
      " [-5.00000000e+00  6.69285092e-03]\n",
      " [-4.00000000e+00  1.79862100e-02]\n",
      " [-3.00000000e+00  4.74258732e-02]\n",
      " [-2.00000000e+00  1.19202922e-01]\n",
      " [-1.00000000e+00  2.68941421e-01]\n",
      " [ 0.00000000e+00  5.00000000e-01]\n",
      " [ 1.00000000e+00  7.31058579e-01]\n",
      " [ 2.00000000e+00  8.80797078e-01]\n",
      " [ 3.00000000e+00  9.52574127e-01]\n",
      " [ 4.00000000e+00  9.82013790e-01]\n",
      " [ 5.00000000e+00  9.93307149e-01]\n",
      " [ 6.00000000e+00  9.97527377e-01]\n",
      " [ 7.00000000e+00  9.99088949e-01]\n",
      " [ 8.00000000e+00  9.99664650e-01]\n",
      " [ 9.00000000e+00  9.99876605e-01]\n",
      " [ 1.00000000e+01  9.99954602e-01]]\n"
     ]
    }
   ],
   "source": [
    "z_temp = np.arange(-10,11)\n",
    "y = sigmoid(z_temp)\n",
    "print(\"Input (z), Output (sigmoid(z))\")\n",
    "print(np.c_[z_temp,y])"
   ]
  },
  {
   "cell_type": "code",
   "execution_count": 23,
   "id": "c11c8083-0b4f-4809-9a48-9fbf3e34893b",
   "metadata": {},
   "outputs": [],
   "source": [
    "x_train = np.array([[0.5, 1.5], [1,1], [1.5, 0.5], [3, 0.5], [2, 2], [1, 2.5]])\n",
    "y_train = np.array([0, 0, 0, 1, 1, 1])"
   ]
  },
  {
   "cell_type": "code",
   "execution_count": 27,
   "id": "49fff292-5209-41e0-b13f-473ee7522d97",
   "metadata": {},
   "outputs": [],
   "source": [
    "def compute_cost_logistic(x,y,w,b):\n",
    "    m = x.shape[0]\n",
    "    cost = 0\n",
    "    for i in range(m):\n",
    "        z_i = np.dot(w,x) + b\n",
    "        g_z = sigmoid(z_i)\n",
    "        cost += -y[i]*np.log(g_z)-(1-y[i])*np.log(1-g_z)\n",
    "    return cost/m"
   ]
  },
  {
   "cell_type": "code",
   "execution_count": 29,
   "id": "1a843361-abbe-42fb-bf81-a406c8645e83",
   "metadata": {},
   "outputs": [
    {
     "ename": "ValueError",
     "evalue": "shapes (2,) and (6,2) not aligned: 2 (dim 0) != 6 (dim 0)",
     "output_type": "error",
     "traceback": [
      "\u001b[0;31m---------------------------------------------------------------------------\u001b[0m",
      "\u001b[0;31mValueError\u001b[0m                                Traceback (most recent call last)",
      "Cell \u001b[0;32mIn[29], line 1\u001b[0m\n\u001b[0;32m----> 1\u001b[0m \u001b[38;5;28mprint\u001b[39m(compute_cost_logistic(x_train,y_train,np\u001b[38;5;241m.\u001b[39marray([\u001b[38;5;241m1\u001b[39m,\u001b[38;5;241m1\u001b[39m]),\u001b[38;5;241m-\u001b[39m\u001b[38;5;241m3\u001b[39m))\n",
      "Cell \u001b[0;32mIn[27], line 5\u001b[0m, in \u001b[0;36mcompute_cost_logistic\u001b[0;34m(x, y, w, b)\u001b[0m\n\u001b[1;32m      3\u001b[0m cost \u001b[38;5;241m=\u001b[39m \u001b[38;5;241m0\u001b[39m\n\u001b[1;32m      4\u001b[0m \u001b[38;5;28;01mfor\u001b[39;00m i \u001b[38;5;129;01min\u001b[39;00m \u001b[38;5;28mrange\u001b[39m(m):\n\u001b[0;32m----> 5\u001b[0m     z_i \u001b[38;5;241m=\u001b[39m np\u001b[38;5;241m.\u001b[39mdot(w,x) \u001b[38;5;241m+\u001b[39m b\n\u001b[1;32m      6\u001b[0m     g_z \u001b[38;5;241m=\u001b[39m sigmoid(z_i)\n\u001b[1;32m      7\u001b[0m     cost \u001b[38;5;241m+\u001b[39m\u001b[38;5;241m=\u001b[39m \u001b[38;5;241m-\u001b[39my[i]\u001b[38;5;241m*\u001b[39mnp\u001b[38;5;241m.\u001b[39mlog(g_z)\u001b[38;5;241m-\u001b[39m(\u001b[38;5;241m1\u001b[39m\u001b[38;5;241m-\u001b[39my[i])\u001b[38;5;241m*\u001b[39mnp\u001b[38;5;241m.\u001b[39mlog(\u001b[38;5;241m1\u001b[39m\u001b[38;5;241m-\u001b[39mg_z)\n",
      "\u001b[0;31mValueError\u001b[0m: shapes (2,) and (6,2) not aligned: 2 (dim 0) != 6 (dim 0)"
     ]
    }
   ],
   "source": [
    "print(compute_cost_logistic(x_train,y_train,np.array([1,1]),-3))"
   ]
  },
  {
   "cell_type": "code",
   "execution_count": null,
   "id": "3320b9c2-af3e-475d-8dad-af2c69afc473",
   "metadata": {},
   "outputs": [],
   "source": []
  }
 ],
 "metadata": {
  "kernelspec": {
   "display_name": "Python 3 (ipykernel)",
   "language": "python",
   "name": "python3"
  },
  "language_info": {
   "codemirror_mode": {
    "name": "ipython",
    "version": 3
   },
   "file_extension": ".py",
   "mimetype": "text/x-python",
   "name": "python",
   "nbconvert_exporter": "python",
   "pygments_lexer": "ipython3",
   "version": "3.12.7"
  }
 },
 "nbformat": 4,
 "nbformat_minor": 5
}
