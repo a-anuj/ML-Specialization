{
 "cells": [
  {
   "cell_type": "code",
   "execution_count": 73,
   "id": "5dd88b95-cb73-4967-9595-cb6453a6390c",
   "metadata": {},
   "outputs": [],
   "source": [
    "import numpy as np\n",
    "import matplotlib.pyplot as plt"
   ]
  },
  {
   "cell_type": "code",
   "execution_count": 75,
   "id": "f2aa2824-5cc7-488d-93c2-3864f1f89ca8",
   "metadata": {},
   "outputs": [],
   "source": [
    "#Sigmoid function\n",
    "def sigmoid(z): # takes an input parameter z\n",
    "    g = 1/(1+np.exp(-z))\n",
    "    return g"
   ]
  },
  {
   "cell_type": "code",
   "execution_count": 130,
   "id": "fe513987-76c8-41db-9033-6f3a676644b3",
   "metadata": {},
   "outputs": [
    {
     "name": "stdout",
     "output_type": "stream",
     "text": [
      "Input (z), Output (sigmoid(z))\n",
      "[[-1.00000000e+01  4.53978687e-05]\n",
      " [-9.00000000e+00  1.23394576e-04]\n",
      " [-8.00000000e+00  3.35350130e-04]\n",
      " [-7.00000000e+00  9.11051194e-04]\n",
      " [-6.00000000e+00  2.47262316e-03]\n",
      " [-5.00000000e+00  6.69285092e-03]\n",
      " [-4.00000000e+00  1.79862100e-02]\n",
      " [-3.00000000e+00  4.74258732e-02]\n",
      " [-2.00000000e+00  1.19202922e-01]\n",
      " [-1.00000000e+00  2.68941421e-01]\n",
      " [ 0.00000000e+00  5.00000000e-01]\n",
      " [ 1.00000000e+00  7.31058579e-01]\n",
      " [ 2.00000000e+00  8.80797078e-01]\n",
      " [ 3.00000000e+00  9.52574127e-01]\n",
      " [ 4.00000000e+00  9.82013790e-01]\n",
      " [ 5.00000000e+00  9.93307149e-01]\n",
      " [ 6.00000000e+00  9.97527377e-01]\n",
      " [ 7.00000000e+00  9.99088949e-01]\n",
      " [ 8.00000000e+00  9.99664650e-01]\n",
      " [ 9.00000000e+00  9.99876605e-01]\n",
      " [ 1.00000000e+01  9.99954602e-01]]\n"
     ]
    }
   ],
   "source": [
    "z_temp = np.arange(-10,11)\n",
    "y = sigmoid(z_temp)\n",
    "print(\"Input (z), Output (sigmoid(z))\")\n",
    "print(np.c_[z_temp,y])"
   ]
  },
  {
   "cell_type": "code",
   "execution_count": 132,
   "id": "c11c8083-0b4f-4809-9a48-9fbf3e34893b",
   "metadata": {},
   "outputs": [],
   "source": [
    "x_train = np.array([[0.5, 1.5], [1,1], [1.5, 0.5], [3, 0.5], [2, 2], [1, 2.5]])\n",
    "y_train = np.array([0, 0, 0, 1, 1, 1])"
   ]
  },
  {
   "cell_type": "code",
   "execution_count": 134,
   "id": "49fff292-5209-41e0-b13f-473ee7522d97",
   "metadata": {},
   "outputs": [],
   "source": [
    "def compute_cost_logistic(x,y,w,b):\n",
    "    m = x.shape[0]\n",
    "    cost = 0\n",
    "    for i in range(m):\n",
    "        z_i = np.dot(w,x[i]) + b\n",
    "        g_z = sigmoid(z_i)\n",
    "        cost += -y[i]*np.log(g_z)-(1-y[i])*np.log(1-g_z)\n",
    "    return cost/m"
   ]
  },
  {
   "cell_type": "code",
   "execution_count": 136,
   "id": "1a843361-abbe-42fb-bf81-a406c8645e83",
   "metadata": {},
   "outputs": [
    {
     "name": "stdout",
     "output_type": "stream",
     "text": [
      "0.36686678640551745\n"
     ]
    }
   ],
   "source": [
    "print(compute_cost_logistic(x_train,y_train,np.array([1,1]),-3))"
   ]
  },
  {
   "cell_type": "code",
   "execution_count": 156,
   "id": "3320b9c2-af3e-475d-8dad-af2c69afc473",
   "metadata": {},
   "outputs": [],
   "source": [
    "def compute_gradient(x,y,w,b):\n",
    "    m,n = x.shape\n",
    "    dj_dw = np.zeros(n)\n",
    "    dj_db = 0\n",
    "    for i in range(m):\n",
    "        f_wb = sigmoid(np.dot(w,x[i])+b)\n",
    "        err = f_wb - y[i]\n",
    "        for j in range(n):\n",
    "            dj_dw[j] += err * x[i,j]\n",
    "        dj_db += err\n",
    "        \n",
    "    return dj_dw/m,dj_db/m"
   ]
  },
  {
   "cell_type": "code",
   "execution_count": 162,
   "id": "bc61ee34-773f-49e5-9dc1-ce429d07b1f6",
   "metadata": {},
   "outputs": [],
   "source": [
    "def gradient_descent(x,y,w_in,b_in,num_iters,alpha):\n",
    "    w = w_in\n",
    "    b = b_in\n",
    "    j = []\n",
    "    \n",
    "    for i in range(num_iters):\n",
    "        dj_dw,dj_db = compute_gradient(x,y,w,b)\n",
    "        w = w - alpha*dj_dw\n",
    "        b = b - alpha*dj_db\n",
    "\n",
    "        if i<100000:\n",
    "            j.append(compute_cost_logistic(x,y,w,b))\n",
    "\n",
    "        if i%1000 == 0:\n",
    "            print(f\"Iteration {i} - Cost : {j[-1]}\")\n",
    "    \n",
    "    return w,b"
   ]
  },
  {
   "cell_type": "code",
   "execution_count": 164,
   "id": "bda6df02-45f0-4560-9d3a-e9763115ae2e",
   "metadata": {},
   "outputs": [
    {
     "name": "stdout",
     "output_type": "stream",
     "text": [
      "Iteration 0 - Cost : 0.6846104685605737\n",
      "Iteration 1000 - Cost : 0.1590977666870457\n",
      "Iteration 2000 - Cost : 0.08460064176930082\n",
      "Iteration 3000 - Cost : 0.0570532727940253\n",
      "Iteration 4000 - Cost : 0.04290759421682\n",
      "Iteration 5000 - Cost : 0.03433847729884561\n",
      "Iteration 6000 - Cost : 0.02860379802212006\n",
      "Iteration 7000 - Cost : 0.02450156960879306\n",
      "Iteration 8000 - Cost : 0.02142370332569289\n",
      "Iteration 9000 - Cost : 0.019030137124109094\n",
      "w : [5.28123029 5.07815608], b: -14.222409982019839\n"
     ]
    }
   ],
   "source": [
    "w = np.zeros(x_train.shape[1])\n",
    "b = 0\n",
    "alpha = 0.1\n",
    "num_iters = 10000\n",
    "w,b = gradient_descent(x_train,y_train,w,b,num_iters,alpha)\n",
    "print(f\"w : {w}, b: {b}\")"
   ]
  },
  {
   "cell_type": "code",
   "execution_count": 170,
   "id": "bcb33134-6202-4b9d-a257-0d5912af40bd",
   "metadata": {},
   "outputs": [
    {
     "ename": "SyntaxError",
     "evalue": "invalid decimal literal (900593037.py, line 2)",
     "output_type": "error",
     "traceback": [
      "\u001b[0;36m  Cell \u001b[0;32mIn[170], line 2\u001b[0;36m\u001b[0m\n\u001b[0;31m    print(sigmoid(np.dot(x_test,w)+b):.0f)\u001b[0m\n\u001b[0m                                       ^\u001b[0m\n\u001b[0;31mSyntaxError\u001b[0m\u001b[0;31m:\u001b[0m invalid decimal literal\n"
     ]
    }
   ],
   "source": [
    "x_test = [[1,2.5]]\n",
    "print(sigmoid(np.dot(x_test,w)+b):.0f)"
   ]
  },
  {
   "cell_type": "code",
   "execution_count": null,
   "id": "69a1054b-9348-496f-bd23-c04db55a1495",
   "metadata": {},
   "outputs": [],
   "source": []
  }
 ],
 "metadata": {
  "kernelspec": {
   "display_name": "Python 3 (ipykernel)",
   "language": "python",
   "name": "python3"
  },
  "language_info": {
   "codemirror_mode": {
    "name": "ipython",
    "version": 3
   },
   "file_extension": ".py",
   "mimetype": "text/x-python",
   "name": "python",
   "nbconvert_exporter": "python",
   "pygments_lexer": "ipython3",
   "version": "3.12.7"
  }
 },
 "nbformat": 4,
 "nbformat_minor": 5
}
